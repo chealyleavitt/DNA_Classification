{
 "cells": [
  {
   "cell_type": "markdown",
   "id": "6591c192-b3ec-4aa2-8ac3-43239117bebd",
   "metadata": {},
   "source": [
    "# DNA Data Science Assessment - Random Forest Classification"
   ]
  },
  {
   "cell_type": "code",
   "execution_count": 1,
   "id": "7c267e06-a25c-42a3-be96-2944a0de99dc",
   "metadata": {},
   "outputs": [],
   "source": [
    "import pandas as pd\n",
    "import numpy as np\n",
    "import pickle\n",
    "\n",
    "import seaborn as sns\n",
    "import matplotlib.pyplot as plt\n",
    "\n",
    "from sklearn.ensemble import RandomForestClassifier\n",
    "from sklearn.model_selection import cross_val_score\n",
    "from sklearn import metrics"
   ]
  },
  {
   "cell_type": "code",
   "execution_count": 2,
   "id": "fced2a53-af5b-4c4c-987b-532e6623031a",
   "metadata": {},
   "outputs": [],
   "source": [
    "# Load prepped data\n",
    "X_train,y_train,X_train_balanced,y_train_balanced,X_train_over,y_train_over,X_test,y_test = pickle.load(open('prepped_data.pkl','rb'))"
   ]
  },
  {
   "cell_type": "markdown",
   "id": "037ff314-520d-492e-b6d4-17a6aa733a47",
   "metadata": {},
   "source": [
    "## Random Forest Classifier"
   ]
  },
  {
   "cell_type": "code",
   "execution_count": 3,
   "id": "b964d572-a4b7-4312-8ea4-f32ddc60f7bb",
   "metadata": {},
   "outputs": [],
   "source": [
    "# Create Random Forest Classifier, and train on data before balancing\n",
    "clf = RandomForestClassifier(n_estimators=100) # start with 100 estimators\n",
    "\n",
    "clf.fit(X_train,y_train)\n",
    "\n",
    "y_pred = clf.predict(X_test)"
   ]
  },
  {
   "cell_type": "code",
   "execution_count": 4,
   "id": "ca90de18-bf0a-4455-b5af-90e146244d4a",
   "metadata": {},
   "outputs": [
    {
     "name": "stdout",
     "output_type": "stream",
     "text": [
      "Accuracy: 0.9661111111111111\n"
     ]
    }
   ],
   "source": [
    "print(\"Accuracy:\",metrics.accuracy_score(y_test, y_pred))"
   ]
  },
  {
   "cell_type": "code",
   "execution_count": 5,
   "id": "53799f83-46b0-4496-9ebc-8bb44fcb72a7",
   "metadata": {},
   "outputs": [
    {
     "data": {
      "text/plain": [
       "array([[1531,   30],\n",
       "       [  31,  208]])"
      ]
     },
     "execution_count": 5,
     "metadata": {},
     "output_type": "execute_result"
    }
   ],
   "source": [
    "metrics.confusion_matrix(y_test,y_pred)"
   ]
  },
  {
   "cell_type": "code",
   "execution_count": 22,
   "id": "ed0c9eec-f0e7-433d-b877-96dfda4936b1",
   "metadata": {},
   "outputs": [
    {
     "name": "stdout",
     "output_type": "stream",
     "text": [
      "              precision    recall  f1-score   support\n",
      "\n",
      "           0       0.98      0.98      0.98      1561\n",
      "           1       0.87      0.87      0.87       239\n",
      "\n",
      "    accuracy                           0.97      1800\n",
      "   macro avg       0.93      0.93      0.93      1800\n",
      "weighted avg       0.97      0.97      0.97      1800\n",
      "\n"
     ]
    }
   ],
   "source": [
    "print(metrics.classification_report(y_test, y_pred))"
   ]
  },
  {
   "cell_type": "markdown",
   "id": "d0dc5713-c02c-4029-aa2e-5906b34a9797",
   "metadata": {},
   "source": [
    "## Random Forest Classifier with Balanced Undersampled Training Data"
   ]
  },
  {
   "cell_type": "code",
   "execution_count": 9,
   "id": "2a7c5296-d714-4fcf-8d3a-54164cfff210",
   "metadata": {},
   "outputs": [],
   "source": [
    "# Create Random Forest Classifier\n",
    "clf_bal=RandomForestClassifier(n_estimators=100)\n",
    "\n",
    "clf_bal.fit(X_train_balanced,y_train_balanced)\n",
    "\n",
    "y_pred_bal=clf_bal.predict(X_test)"
   ]
  },
  {
   "cell_type": "code",
   "execution_count": 10,
   "id": "26ad6310-4b29-4982-be70-805a864f24fe",
   "metadata": {},
   "outputs": [
    {
     "name": "stdout",
     "output_type": "stream",
     "text": [
      "Accuracy: 0.9572222222222222\n"
     ]
    }
   ],
   "source": [
    "print(\"Accuracy:\",metrics.accuracy_score(y_test, y_pred_bal))"
   ]
  },
  {
   "cell_type": "code",
   "execution_count": 11,
   "id": "83b31786-0714-4a5e-bd70-81499de6650c",
   "metadata": {},
   "outputs": [
    {
     "data": {
      "text/plain": [
       "array([[1490,   71],\n",
       "       [   6,  233]])"
      ]
     },
     "execution_count": 11,
     "metadata": {},
     "output_type": "execute_result"
    }
   ],
   "source": [
    "metrics.confusion_matrix(y_test,y_pred_bal)"
   ]
  },
  {
   "cell_type": "code",
   "execution_count": 21,
   "id": "5b373136-9b10-4f5e-b20c-cc2d989488b5",
   "metadata": {},
   "outputs": [
    {
     "name": "stdout",
     "output_type": "stream",
     "text": [
      "              precision    recall  f1-score   support\n",
      "\n",
      "           0       1.00      0.95      0.97      1561\n",
      "           1       0.77      0.97      0.86       239\n",
      "\n",
      "    accuracy                           0.96      1800\n",
      "   macro avg       0.88      0.96      0.92      1800\n",
      "weighted avg       0.97      0.96      0.96      1800\n",
      "\n"
     ]
    }
   ],
   "source": [
    "print(metrics.classification_report(y_test, y_pred_bal))"
   ]
  },
  {
   "cell_type": "markdown",
   "id": "fc2fd7b5-49f2-455b-8560-8ab715317455",
   "metadata": {},
   "source": [
    "## Random Forest Classifier with Balanced Oversampled Training Data"
   ]
  },
  {
   "cell_type": "code",
   "execution_count": 12,
   "id": "9c18cf1d-7cfc-4dc7-a111-16e1901aba45",
   "metadata": {},
   "outputs": [
    {
     "name": "stdout",
     "output_type": "stream",
     "text": [
      "Accuracy: 0.9622222222222222\n"
     ]
    }
   ],
   "source": [
    "# Create Random Forest Classifier\n",
    "clf_over=RandomForestClassifier(n_estimators=100)\n",
    "\n",
    "clf_over.fit(X_train_over,y_train_over)\n",
    "\n",
    "y_pred_over=clf_over.predict(X_test)\n",
    "\n",
    "print(\"Accuracy:\",metrics.accuracy_score(y_test, y_pred_over))"
   ]
  },
  {
   "cell_type": "code",
   "execution_count": 13,
   "id": "05b51b3e-0e17-485e-90af-7369ff41caa2",
   "metadata": {},
   "outputs": [
    {
     "data": {
      "text/plain": [
       "array([[1529,   32],\n",
       "       [  36,  203]])"
      ]
     },
     "execution_count": 13,
     "metadata": {},
     "output_type": "execute_result"
    }
   ],
   "source": [
    "metrics.confusion_matrix(y_test,y_pred_over)"
   ]
  },
  {
   "cell_type": "code",
   "execution_count": 23,
   "id": "52cd1a12-2d82-4140-ab33-a0a34c59bb25",
   "metadata": {},
   "outputs": [
    {
     "name": "stdout",
     "output_type": "stream",
     "text": [
      "              precision    recall  f1-score   support\n",
      "\n",
      "           0       0.98      0.98      0.98      1561\n",
      "           1       0.86      0.85      0.86       239\n",
      "\n",
      "    accuracy                           0.96      1800\n",
      "   macro avg       0.92      0.91      0.92      1800\n",
      "weighted avg       0.96      0.96      0.96      1800\n",
      "\n"
     ]
    }
   ],
   "source": [
    "print(metrics.classification_report(y_test, y_pred_over))"
   ]
  },
  {
   "cell_type": "markdown",
   "id": "44091a3b-abe5-4d7a-99e9-ad83c8132747",
   "metadata": {},
   "source": [
    "## Retrain RF with Select Features"
   ]
  },
  {
   "cell_type": "code",
   "execution_count": 31,
   "id": "f2d68e00-17b2-4cb2-b1f9-f8dcc34f955b",
   "metadata": {},
   "outputs": [
    {
     "data": {
      "text/plain": [
       "array([0.31273957, 0.15351308, 0.12905097, 0.1217558 , 0.08512202,\n",
       "       0.0656712 , 0.06295777, 0.02809007, 0.01193176, 0.011434  ,\n",
       "       0.00813801, 0.00465815, 0.00400812, 0.00092946])"
      ]
     },
     "execution_count": 31,
     "metadata": {},
     "output_type": "execute_result"
    }
   ],
   "source": [
    "# Go with under sampled classifier\n",
    "feature_imp = pd.Series(clf_bal.feature_importances_,index=X_train.columns).sort_values(ascending=False)\n",
    "feature_imp.values"
   ]
  },
  {
   "cell_type": "code",
   "execution_count": 32,
   "id": "2deb2d7e-a1cb-4417-af1c-f917ad5abad5",
   "metadata": {},
   "outputs": [
    {
     "data": {
      "image/png": "[encoded data removed]",
      "text/plain": [
       "<Figure size 504x720 with 1 Axes>"
      ]
     },
     "metadata": {
      "needs_background": "light"
     },
     "output_type": "display_data"
    }
   ],
   "source": [
    "f, ax = plt.subplots(figsize=(7, 10))\n",
    "ax = sns.barplot(x=feature_imp.values, y=feature_imp.index)\n",
    "ax.set_title(\"Visualize feature scores of the features\")\n",
    "ax.set_yticklabels(feature_imp.index)\n",
    "ax.set_xlabel(\"Feature importance score\")\n",
    "ax.set_ylabel(\"Features\")\n",
    "plt.show()"
   ]
  },
  {
   "cell_type": "code",
   "execution_count": 35,
   "id": "ea6ab4a3-fa1c-4c63-9003-8f94579b2099",
   "metadata": {},
   "outputs": [],
   "source": [
    "# Pickle feature names\n",
    "pickle.dump(feature_imp.index[0:10].values,open('top_ten_features.pkl', 'wb'))"
   ]
  },
  {
   "cell_type": "code",
   "execution_count": 36,
   "id": "569e1c39-2dc5-47ab-a59a-7d2a8c7390af",
   "metadata": {},
   "outputs": [],
   "source": [
    "# Rerun Random Forest model with fewer features\n",
    "select = feature_imp.index[0:10] # select the first 10 features\n",
    "X_train_sel = X_train_balanced[select] # get training dataframe with fewer columns\n",
    "X_test_sel = X_test[select] # get test dataframe with fewer columns\n",
    "\n",
    "clf_sel=RandomForestClassifier(n_estimators=100) \n",
    "clf_sel.fit(X_train_sel,y_train_balanced)\n",
    "y_pred_sel=clf_sel.predict(X_test_sel)"
   ]
  },
  {
   "cell_type": "code",
   "execution_count": 37,
   "id": "6d4d10f7-5309-4d40-b165-92e4ac66775f",
   "metadata": {},
   "outputs": [
    {
     "name": "stdout",
     "output_type": "stream",
     "text": [
      "Accuracy: 0.9522222222222222\n"
     ]
    }
   ],
   "source": [
    "print(\"Accuracy:\",metrics.accuracy_score(y_test, y_pred_sel))"
   ]
  },
  {
   "cell_type": "code",
   "execution_count": 38,
   "id": "d376b764-0c78-4869-a84f-bb62aff02aaf",
   "metadata": {},
   "outputs": [
    {
     "name": "stdout",
     "output_type": "stream",
     "text": [
      "              precision    recall  f1-score   support\n",
      "\n",
      "           0       1.00      0.95      0.97      1561\n",
      "           1       0.74      0.98      0.84       239\n",
      "\n",
      "    accuracy                           0.95      1800\n",
      "   macro avg       0.87      0.96      0.91      1800\n",
      "weighted avg       0.96      0.95      0.95      1800\n",
      "\n"
     ]
    }
   ],
   "source": [
    "print(metrics.classification_report(y_test, y_pred_sel))"
   ]
  },
  {
   "cell_type": "code",
   "execution_count": 39,
   "id": "482bee5f-00d0-4e8b-b272-c63a89b03fe4",
   "metadata": {},
   "outputs": [
    {
     "data": {
      "text/plain": [
       "array([[1480,   81],\n",
       "       [   5,  234]])"
      ]
     },
     "execution_count": 39,
     "metadata": {},
     "output_type": "execute_result"
    }
   ],
   "source": [
    "metrics.confusion_matrix(y_test,y_pred_sel)"
   ]
  },
  {
   "cell_type": "code",
   "execution_count": 40,
   "id": "892c805f-285c-427f-be18-0a5a1197665c",
   "metadata": {},
   "outputs": [],
   "source": [
    "# save DTC model\n",
    "pickle.dump(clf_sel, open('rfm_10_features.pkl', 'wb'))"
   ]
  },
  {
   "cell_type": "code",
   "execution_count": null,
   "id": "cb8109ad-0267-4d02-8dd3-936391c00e92",
   "metadata": {},
   "outputs": [],
   "source": []
  }
 ],
 "metadata": {
  "kernelspec": {
   "display_name": "Python 3 (ipykernel)",
   "language": "python",
   "name": "python3"
  },
  "language_info": {
   "codemirror_mode": {
    "name": "ipython",
    "version": 3
   },
   "file_extension": ".py",
   "mimetype": "text/x-python",
   "name": "python",
   "nbconvert_exporter": "python",
   "pygments_lexer": "ipython3",
   "version": "3.9.7"
  }
 },
 "nbformat": 4,
 "nbformat_minor": 5
}
